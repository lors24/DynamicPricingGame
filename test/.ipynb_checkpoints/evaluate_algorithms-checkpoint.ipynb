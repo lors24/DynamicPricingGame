{
 "cells": [
  {
   "cell_type": "markdown",
   "metadata": {},
   "source": [
    "# Dynamic Pricing Game\n",
    "## Notebook for testing your algorithms\n",
    "\n",
    "You can use this notebook to run your buyer/seller algorithms and compare them to the naive ones provided.\n",
    "\n",
    "In the below code, make any necessary changes as indicated by the TODO comments."
   ]
  },
  {
   "cell_type": "code",
   "execution_count": 2,
   "metadata": {
    "collapsed": false
   },
   "outputs": [
    {
     "data": {
      "text/plain": [
       "u'/Users/loredp/Dropbox (MIT)/MIT/DynamicPricingGame/test'"
      ]
     },
     "execution_count": 2,
     "metadata": {},
     "output_type": "execute_result"
    }
   ],
   "source": [
    "pwd"
   ]
  },
  {
   "cell_type": "code",
   "execution_count": 3,
   "metadata": {
    "collapsed": false
   },
   "outputs": [],
   "source": [
    "import sys\n",
    "import os\n",
    "import matplotlib.pyplot as plt\n",
    "import numpy.random as rn\n",
    "import numpy as np\n",
    "\n",
    "%matplotlib inline\n",
    "\n",
    "# TODO: write the path to the root directory of the simulation game code below. \n",
    "# It should have a README.md file under it and 'simulation_game', 'simulation_algos', 'test directories' under it.\n",
    "path_to_game_code = \"/Users/loredp/Dropbox (MIT)/MIT/DynamicPricingGame\"\n",
    "sys.path.append(path_to_game_code)\n",
    "os.environ['PYTHONPATH'] = path_to_game_code\n",
    "\n",
    "from simulation_game.simulation import simulate\n",
    "\n",
    "# TODO: you need to change the name of the file and the classes!\n",
    "from simulation_algos.omx import OMXBuyer, OMXSeller\n",
    "\n",
    "from simulation_game.buyer import MyopicBuyer\n",
    "from simulation_game.seller import DummySeller"
   ]
  },
  {
   "cell_type": "markdown",
   "metadata": {},
   "source": [
    "If everything works you can test your algorithms below:"
   ]
  },
  {
   "cell_type": "code",
   "execution_count": 1,
   "metadata": {
    "collapsed": false
   },
   "outputs": [
    {
     "ename": "NameError",
     "evalue": "name 'rn' is not defined",
     "output_type": "error",
     "traceback": [
      "\u001b[0;31m---------------------------------------------------------------------------\u001b[0m",
      "\u001b[0;31mNameError\u001b[0m                                 Traceback (most recent call last)",
      "\u001b[0;32m<ipython-input-1-0b1321d3f8d6>\u001b[0m in \u001b[0;36m<module>\u001b[0;34m()\u001b[0m\n\u001b[1;32m      6\u001b[0m \u001b[0;34m\u001b[0m\u001b[0m\n\u001b[1;32m      7\u001b[0m \u001b[0;31m# Set the seed so that you get the same random number sequences in every run (makes it easier to debug and test)\u001b[0m\u001b[0;34m\u001b[0m\u001b[0;34m\u001b[0m\u001b[0m\n\u001b[0;32m----> 8\u001b[0;31m \u001b[0mrn\u001b[0m\u001b[0;34m.\u001b[0m\u001b[0mseed\u001b[0m\u001b[0;34m(\u001b[0m\u001b[0;36m123\u001b[0m\u001b[0;34m)\u001b[0m\u001b[0;34m\u001b[0m\u001b[0m\n\u001b[0m\u001b[1;32m      9\u001b[0m \u001b[0;34m\u001b[0m\u001b[0m\n\u001b[1;32m     10\u001b[0m \u001b[0;31m# Create your buyer and seller objects\u001b[0m\u001b[0;34m\u001b[0m\u001b[0;34m\u001b[0m\u001b[0m\n",
      "\u001b[0;31mNameError\u001b[0m: name 'rn' is not defined"
     ]
    }
   ],
   "source": [
    "# Set these parameters how you want for testing\n",
    "price_scale = 3\n",
    "mc_trials = 100\n",
    "x_0 = 3\n",
    "horizon = 4\n",
    "\n",
    "# Set the seed so that you get the same random number sequences in every run (makes it easier to debug and test)\n",
    "rn.seed(123)\n",
    "\n",
    "# Create your buyer and seller objects\n",
    "your_buyer = OMXBuyer()\n",
    "your_seller = OMXSeller()\n",
    "\n",
    "# Algorithms to compare your ones against. These are the simple ones that we provide for you\n",
    "simple_buyer = MyopicBuyer(\"MyopicBuyer\")\n",
    "simple_seller = DummySeller(\"DummySeller\")\n",
    "\n",
    "# 2 teams are formed. One team is you and the other is the simple A.I.\n",
    "teams = [(your_buyer, your_seller), (simple_buyer, simple_seller)]\n",
    "\n",
    "# Simulate and print the mean revenue and consumer surplus for the two teams (where the order is the same as how\n",
    "# the teams were defined)\n",
    "mean_revenue, mean_cs = simulate(teams, horizon, x_0, mc_trials, price_scale)\n",
    "print mean_revenue, mean_cs"
   ]
  },
  {
   "cell_type": "markdown",
   "metadata": {},
   "source": [
    "Good luck!"
   ]
  }
 ],
 "metadata": {
  "anaconda-cloud": {},
  "kernelspec": {
   "display_name": "Python [default]",
   "language": "python",
   "name": "python2"
  },
  "language_info": {
   "codemirror_mode": {
    "name": "ipython",
    "version": 2
   },
   "file_extension": ".py",
   "mimetype": "text/x-python",
   "name": "python",
   "nbconvert_exporter": "python",
   "pygments_lexer": "ipython2",
   "version": "2.7.12"
  }
 },
 "nbformat": 4,
 "nbformat_minor": 2
}
