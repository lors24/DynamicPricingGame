{
 "cells": [
  {
   "cell_type": "code",
   "execution_count": 473,
   "metadata": {
    "collapsed": false
   },
   "outputs": [],
   "source": [
    "from cvxpy import *\n",
    "import numpy as np\n",
    "import math\n",
    "import numpy as np\n",
    "import numpy.random as rn\n",
    "import gurobipy\n",
    "\n",
    "# Problem data.\n",
    "N = 10\n",
    "T = 30\n",
    "x0 = 10.\n",
    "xt = 8\n",
    "l = 4\n",
    "M = 100000\n",
    "s = 10 #number of splines\n",
    "\n",
    "index = np.array(range(N+1))\n",
    "# Construct the problem.\n",
    "\n",
    "#Variables\n",
    "\n",
    "p = Variable(T)\n",
    "y = Int(T,N+1)\n",
    "z = Variable(T,N+1)\n",
    "beta = Variable(s,T)\n",
    "w = Int(s-1,T)\n",
    "Nt = np.ones(T)*(N-(x0-xt))-sales*np.array([range(1,T+1)])\n",
    "Nt = Nt.clip(0)\n",
    "\n",
    "aux = np.array(range(100,0,-10))/100.\n",
    "aux2 = np.log(1.0/aux)*l\n",
    "aux4 = np.array(range(100,0,-10))/100.\n",
    "\n",
    "objective = Maximize(sum_entries(z*index))\n",
    "\n",
    "constraints = [sum_entries(y*index)<=x0, \n",
    "               z>=0,\n",
    "               y*np.ones((N+1,1)) == 1,\n",
    "               p == beta.T*aux2,\n",
    "               beta[0,:] <= w[0,:],\n",
    "               beta[1,:] <= w[0,:]+w[1,:],\n",
    "               beta[2,:] <= w[1,:]+w[2,:],\n",
    "               beta[3,:] <= w[2,:]+w[3,:],\n",
    "               beta[4,:] <= w[3,:]+w[4,:],\n",
    "               beta[5,:] <= w[4,:]+w[5,:],\n",
    "               beta[6,:] <= w[5,:]+w[6,:],\n",
    "               beta[7,:] <= w[6,:]+w[7,:],\n",
    "               beta[8,:] <= w[7,:]+w[8,:],\n",
    "               beta[9,:] <= w[8,:],\n",
    "               sum_entries(beta, axis=0) == 1,\n",
    "               p[1:] <= p[:-1],\n",
    "               p>=0, y>=0,\n",
    "               beta >= 0,\n",
    "               w >= 0,\n",
    "               w <= 1]\n",
    "\n",
    "for t in range(T):\n",
    "    for i in range(N+1):\n",
    "        constraints.append(z[t,i] <= p[t])\n",
    "        constraints.append(z[t,i]<=M*y[t,i])\n",
    "        constraints.append(i*y[t,i] <= Nt[0,t]*(beta[:,t].T*aux4)) \n",
    "prob = Problem(objective, constraints)\n",
    "result = prob.solve(solver = GUROBI)\n"
   ]
  },
  {
   "cell_type": "code",
   "execution_count": 546,
   "metadata": {
    "collapsed": false
   },
   "outputs": [
    {
     "name": "stdout",
     "output_type": "stream",
     "text": [
      "[1, 2, 3]\n"
     ]
    }
   ],
   "source": [
    "t = 3\n",
    "s = np.zeros(t)\n",
    "p = np.zeros(t)\n",
    "\n",
    "x = np.ones(5)\n",
    "\n",
    "print range(1,t+1)\n",
    "\n",
    "for time in range(1,t):\n",
    "    s[time] = x[time-1]-x[time]\n",
    "    p[time] = N - x[time]"
   ]
  },
  {
   "cell_type": "code",
   "execution_count": 568,
   "metadata": {
    "collapsed": false
   },
   "outputs": [
    {
     "data": {
      "text/plain": [
       "2.9105249464057756"
      ]
     },
     "execution_count": 568,
     "metadata": {},
     "output_type": "execute_result"
    }
   ],
   "source": [
    "inventory_h = np.array([10,9,7,7,5])\n",
    "price_h = np.array([5,5,4,3,2])\n",
    "\n",
    "t= 4\n",
    "\n",
    "N = 10\n",
    "T = 15\n",
    "x0 = 10.\n",
    "reserve_price = 5\n",
    "\n",
    "xt = inventory_h[t]\n",
    "Y = np.zeros(t+1)\n",
    "Nt = np.zeros(t+1)\n",
    "lambdas = np.zeros(t+1)\n",
    "lambdas[0] = reserve_price\n",
    "Nt[0] = N\n",
    "\n",
    "def eval():\n",
    "    if reserve_price < price_h[t]:\n",
    "        return 0\n",
    "    elif t == 0:\n",
    "        #prices = self.decide_prices(N,T,t,x0,xt,reserve_price,M,s)\n",
    "        return 0\n",
    "    else:\n",
    "        for ts in range(1,t+1):\n",
    "            Y[ts-1] = inventory_h[ts-1]-inventory_h[ts]\n",
    "            Nt[ts] = Nt[ts-1] - Y[ts-1]\n",
    "            if Y[ts-1] == 0 or Nt[ts-1] == 0:\n",
    "                lambdas[ts] = lambdas[ts-1]/2\n",
    "            else:\n",
    "                lambdas[ts] = -price_h[ts-1]/(math.log(Y[ts-1]/Nt[ts-1]))\n",
    "                l = np.mean(lambdas)\n",
    "        return l\n",
    "\n",
    "eval()"
   ]
  },
  {
   "cell_type": "code",
   "execution_count": 569,
   "metadata": {
    "collapsed": false
   },
   "outputs": [
    {
     "data": {
      "text/plain": [
       "[0]"
      ]
     },
     "execution_count": 569,
     "metadata": {},
     "output_type": "execute_result"
    }
   ],
   "source": [
    "range(1)"
   ]
  },
  {
   "cell_type": "code",
   "execution_count": 598,
   "metadata": {
    "collapsed": false
   },
   "outputs": [
    {
     "data": {
      "text/plain": [
       "array([[ 0.,  0.,  0.]])"
      ]
     },
     "execution_count": 598,
     "metadata": {},
     "output_type": "execute_result"
    }
   ],
   "source": [
    "np.zeros((1,3))\n"
   ]
  },
  {
   "cell_type": "code",
   "execution_count": null,
   "metadata": {
    "collapsed": true
   },
   "outputs": [],
   "source": [
    "constraints = [y >= 0, p >= 0, sum(y)<= x0, y <= 1 - l*p] \n",
    "#The optimal objective is returned by prob.solve().\n",
    "prob = Problem(objective, constraints)\n",
    "result = prob.solve()\n",
    "# The optimal value for x is stored in x.value.\n",
    "print p.value\n",
    "# The optimal Lagrange multiplier for a constraint\n",
    "# is stored in constraint.dual_value.\n",
    "#print constraints[0].dual_value"
   ]
  },
  {
   "cell_type": "code",
   "execution_count": 5,
   "metadata": {
    "collapsed": false
   },
   "outputs": [
    {
     "data": {
      "text/plain": [
       "<numpy.lib.function_base.vectorize at 0x10af90e10>"
      ]
     },
     "execution_count": 5,
     "metadata": {},
     "output_type": "execute_result"
    }
   ],
   "source": [
    "np.vectorize(y)"
   ]
  },
  {
   "cell_type": "code",
   "execution_count": 475,
   "metadata": {
    "collapsed": false
   },
   "outputs": [
    {
     "data": {
      "text/plain": [
       "u'/Users/loredp/Dropbox (MIT)/MIT/DynamicPricingGame'"
      ]
     },
     "execution_count": 475,
     "metadata": {},
     "output_type": "execute_result"
    }
   ],
   "source": []
  },
  {
   "cell_type": "code",
   "execution_count": 477,
   "metadata": {
    "collapsed": false
   },
   "outputs": [
    {
     "data": {
      "text/plain": [
       "0.8"
      ]
     },
     "execution_count": 477,
     "metadata": {},
     "output_type": "execute_result"
    }
   ],
   "source": [
    "sales"
   ]
  },
  {
   "cell_type": "code",
   "execution_count": null,
   "metadata": {
    "collapsed": true
   },
   "outputs": [],
   "source": []
  }
 ],
 "metadata": {
  "anaconda-cloud": {},
  "kernelspec": {
   "display_name": "Python [conda root]",
   "language": "python",
   "name": "conda-root-py"
  },
  "language_info": {
   "codemirror_mode": {
    "name": "ipython",
    "version": 2
   },
   "file_extension": ".py",
   "mimetype": "text/x-python",
   "name": "python",
   "nbconvert_exporter": "python",
   "pygments_lexer": "ipython2",
   "version": "2.7.12"
  }
 },
 "nbformat": 4,
 "nbformat_minor": 1
}
