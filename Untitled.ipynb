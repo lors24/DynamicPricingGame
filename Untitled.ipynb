{
 "cells": [
  {
   "cell_type": "code",
   "execution_count": 453,
   "metadata": {
    "collapsed": false
   },
   "outputs": [
    {
     "name": "stdout",
     "output_type": "stream",
     "text": [
      "Parameter OutputFlag unchanged\n",
      "   Value: 1  Min: 0  Max: 1  Default: 1\n",
      "Changed value of parameter QCPDual to 1\n",
      "   Prev: 0  Min: 0  Max: 1  Default: 0\n",
      "Optimize a model with 2919 rows, 1260 columns and 6268 nonzeros\n",
      "Variable types: 660 continuous, 600 integer (0 binary)\n",
      "Coefficient statistics:\n",
      "  Matrix range     [8e-02, 1e+05]\n",
      "  Objective range  [1e+00, 1e+01]\n",
      "  Bounds range     [0e+00, 0e+00]\n",
      "  RHS range        [1e+00, 1e+01]\n",
      "Found heuristic solution: objective 0\n",
      "Presolve removed 2792 rows and 1108 columns\n",
      "Presolve time: 0.01s\n",
      "Presolved: 127 rows, 152 columns, 685 nonzeros\n",
      "Variable types: 120 continuous, 32 integer (32 binary)\n",
      "\n",
      "Root relaxation: objective -9.210340e+01, 108 iterations, 0.00 seconds\n",
      "\n",
      "    Nodes    |    Current Node    |     Objective Bounds      |     Work\n",
      " Expl Unexpl |  Obj  Depth IntInf | Incumbent    BestBd   Gap | It/Node Time\n",
      "\n",
      "     0     0  -92.10340    0    6    0.00000  -92.10340      -     -    0s\n",
      "H    0     0                      -8.4062630  -92.10340   996%     -    0s\n",
      "     0     0  -92.10340    0    4   -8.40626  -92.10340   996%     -    0s\n",
      "H    0     0                     -24.1629300  -92.10340   281%     -    0s\n",
      "     0     0  -92.10340    0    6  -24.16293  -92.10340   281%     -    0s\n",
      "     0     0  -92.10340    0    5  -24.16293  -92.10340   281%     -    0s\n",
      "H    0     0                     -25.0157393  -92.10340   268%     -    0s\n",
      "     0     0  -92.10340    0    5  -25.01574  -92.10340   268%     -    0s\n",
      "     0     0  -92.10340    0    6  -25.01574  -92.10340   268%     -    0s\n",
      "     0     0  -92.10340    0    6  -25.01574  -92.10340   268%     -    0s\n",
      "H    0     0                     -26.8279590  -92.10340   243%     -    0s\n",
      "     0     2  -92.10340    0    6  -26.82796  -92.10340   243%     -    0s\n",
      "*   47    30              23     -28.4269765  -92.10340   224%   4.1    0s\n",
      "H   65    45                     -29.1021171  -92.10340   216%   3.8    0s\n",
      "H   72    29                     -46.8435962  -92.10340  96.6%   4.2    0s\n",
      "*   88    25              18     -55.4326041  -92.10340  66.2%   4.1    0s\n",
      "*  119    32              19     -57.3615775  -92.10340  60.6%   4.1    0s\n",
      "*  159    46              22     -57.9910320  -92.10340  58.8%   4.3    0s\n",
      "H  180    52                     -59.6357356  -92.10340  54.4%   4.3    0s\n",
      "*  210    39              26     -62.3261459  -92.10340  47.8%   4.3    0s\n",
      "*  262    39              24     -63.6053598  -91.75837  44.3%   4.3    0s\n",
      "*  286    49              22     -63.9403920  -91.75837  43.5%   4.4    0s\n",
      "H  326    55                     -64.9759462  -84.24910  29.7%   4.3    0s\n",
      "*  331    53              25     -65.5850957  -84.24910  28.5%   4.3    0s\n",
      "*  364    41              26     -66.8033947  -80.78236  20.9%   4.4    0s\n",
      "*  557     7              24     -67.7171189  -78.72648  16.3%   4.5    0s\n",
      "\n",
      "Cutting planes:\n",
      "  Gomory: 1\n",
      "  Cover: 1\n",
      "  MIR: 7\n",
      "  Flow cover: 1\n",
      "\n",
      "Explored 627 nodes (3068 simplex iterations) in 0.34 seconds\n",
      "Thread count was 4 (of 4 available processors)\n",
      "\n",
      "Solution count 10: -67.7171 -66.8034 -65.5851 ... -57.3616\n",
      "Pool objective bound -67.7171\n",
      "\n",
      "Optimal solution found (tolerance 1.00e-04)\n",
      "Best objective -6.771711891654e+01, best bound -6.771711891654e+01, gap 0.0000%\n"
     ]
    }
   ],
   "source": [
    "from cvxpy import *\n",
    "import numpy as np\n",
    "import math\n",
    "import numpy as np\n",
    "import numpy.random as rn\n",
    "import gurobipy\n",
    "\n",
    "# Problem data.\n",
    "N = 10\n",
    "T = 30\n",
    "x0 = 10.\n",
    "xt = 8\n",
    "l = 4\n",
    "M = 100000\n",
    "s = 10 #number of splines\n",
    "\n",
    "index = np.array(range(N+1))\n",
    "# Construct the problem.\n",
    "\n",
    "#Variables\n",
    "\n",
    "p = Variable(T)\n",
    "y = Int(T,N+1)\n",
    "z = Variable(T,N+1)\n",
    "beta = Variable(s,T)\n",
    "w = Int(s-1,T)\n",
    "Nt = np.ones(T)*(N-(x0-xt))-sales*np.array([range(1,T+1)])\n",
    "Nt = Nt.clip(0)\n",
    "\n",
    "aux = np.array(range(100,0,-10))/100.\n",
    "aux2 = np.log(1.0/aux)*l\n",
    "aux4 = np.array(range(100,0,-10))/100.\n",
    "\n",
    "objective = Maximize(sum_entries(z*index))\n",
    "\n",
    "constraints = [sum_entries(y*index)<=x0, \n",
    "               z>=0,\n",
    "               y*np.ones((N+1,1)) == 1,\n",
    "               p == beta.T*aux2,\n",
    "               beta[0,:] <= w[0,:],\n",
    "               beta[1,:] <= w[0,:]+w[1,:],\n",
    "               beta[2,:] <= w[1,:]+w[2,:],\n",
    "               beta[3,:] <= w[2,:]+w[3,:],\n",
    "               beta[4,:] <= w[3,:]+w[4,:],\n",
    "               beta[5,:] <= w[4,:]+w[5,:],\n",
    "               beta[6,:] <= w[5,:]+w[6,:],\n",
    "               beta[7,:] <= w[6,:]+w[7,:],\n",
    "               beta[8,:] <= w[7,:]+w[8,:],\n",
    "               beta[9,:] <= w[8,:],\n",
    "               sum_entries(beta, axis=0) == 1,\n",
    "               p[1:] <= p[:-1],\n",
    "               p>=0, y>=0,\n",
    "               beta >= 0,\n",
    "               w >= 0,\n",
    "               w <= 1]\n",
    "\n",
    "for t in range(T):\n",
    "    for i in range(N+1):\n",
    "        constraints.append(z[t,i] <= p[t])\n",
    "        constraints.append(z[t,i]<=M*y[t,i])\n",
    "        constraints.append(i*y[t,i] <= Nt[0,t]*(beta[:,t].T*aux4)) \n",
    "prob = Problem(objective, constraints)\n",
    "result = prob.solve(solver = GUROBI, verbose = True)\n"
   ]
  },
  {
   "cell_type": "code",
   "execution_count": 457,
   "metadata": {
    "collapsed": false
   },
   "outputs": [
    {
     "name": "stdout",
     "output_type": "stream",
     "text": [
      "[[ 0.          0.          7.39101388  0.          0.          0.          0.\n",
      "   0.          0.          0.          0.        ]\n",
      " [ 0.          0.          7.03567667  0.          0.          0.          0.\n",
      "   0.          0.          0.          0.        ]\n",
      " [ 0.          0.          6.57881455  0.          0.          0.          0.\n",
      "   0.          0.          0.          0.        ]\n",
      " [ 0.          6.57881455  0.          0.          0.          0.          0.\n",
      "   0.          0.          0.          0.        ]\n",
      " [ 0.          6.57881455  0.          0.          0.          0.          0.\n",
      "   0.          0.          0.          0.        ]\n",
      " [ 0.          6.57881455  0.          0.          0.          0.          0.\n",
      "   0.          0.          0.          0.        ]\n",
      " [ 0.          5.96966506  0.          0.          0.          0.          0.\n",
      "   0.          0.          0.          0.        ]\n",
      " [ 0.          0.          0.          0.          0.          0.          0.\n",
      "   0.          0.          0.          0.        ]\n",
      " [ 0.          0.          0.          0.          0.          0.          0.\n",
      "   0.          0.          0.          0.        ]\n",
      " [ 0.          0.          0.          0.          0.          0.          0.\n",
      "   0.          0.          0.          0.        ]\n",
      " [ 0.          0.          0.          0.          0.          0.          0.\n",
      "   0.          0.          0.          0.        ]\n",
      " [ 0.          0.          0.          0.          0.          0.          0.\n",
      "   0.          0.          0.          0.        ]\n",
      " [ 0.          0.          0.          0.          0.          0.          0.\n",
      "   0.          0.          0.          0.        ]\n",
      " [ 0.          0.          0.          0.          0.          0.          0.\n",
      "   0.          0.          0.          0.        ]\n",
      " [ 0.          0.          0.          0.          0.          0.          0.\n",
      "   0.          0.          0.          0.        ]\n",
      " [ 0.          0.          0.          0.          0.          0.          0.\n",
      "   0.          0.          0.          0.        ]\n",
      " [ 0.          0.          0.          0.          0.          0.          0.\n",
      "   0.          0.          0.          0.        ]\n",
      " [ 0.          0.          0.          0.          0.          0.          0.\n",
      "   0.          0.          0.          0.        ]\n",
      " [ 0.          0.          0.          0.          0.          0.          0.\n",
      "   0.          0.          0.          0.        ]\n",
      " [ 0.          0.          0.          0.          0.          0.          0.\n",
      "   0.          0.          0.          0.        ]\n",
      " [ 0.          0.          0.          0.          0.          0.          0.\n",
      "   0.          0.          0.          0.        ]\n",
      " [ 0.          0.          0.          0.          0.          0.          0.\n",
      "   0.          0.          0.          0.        ]\n",
      " [ 0.          0.          0.          0.          0.          0.          0.\n",
      "   0.          0.          0.          0.        ]\n",
      " [ 0.          0.          0.          0.          0.          0.          0.\n",
      "   0.          0.          0.          0.        ]\n",
      " [ 0.          0.          0.          0.          0.          0.          0.\n",
      "   0.          0.          0.          0.        ]\n",
      " [ 0.          0.          0.          0.          0.          0.          0.\n",
      "   0.          0.          0.          0.        ]\n",
      " [ 0.          0.          0.          0.          0.          0.          0.\n",
      "   0.          0.          0.          0.        ]\n",
      " [ 0.          0.          0.          0.          0.          0.          0.\n",
      "   0.          0.          0.          0.        ]\n",
      " [ 0.          0.          0.          0.          0.          0.          0.\n",
      "   0.          0.          0.          0.        ]\n",
      " [ 0.          0.          0.          0.          0.          0.          0.\n",
      "   0.          0.          0.          0.        ]]\n",
      "67.7171189165\n"
     ]
    }
   ],
   "source": [
    "#print p.value\n",
    "print z.value\n",
    "print result\n",
    "#print np.round(y.value,3), Nt\n",
    "#print installed_solvers()\n",
    "\n",
    "#print np.round(z.value,2)\n",
    "\n",
    "#reserve_prices = rn.exponential(l, size=N)\n",
    "#print np.mean(reserve_prices)\n",
    "#print reserve_prices"
   ]
  },
  {
   "cell_type": "code",
   "execution_count": 372,
   "metadata": {
    "collapsed": false
   },
   "outputs": [
    {
     "data": {
      "text/plain": [
       "-inf"
      ]
     },
     "execution_count": 372,
     "metadata": {},
     "output_type": "execute_result"
    }
   ],
   "source": [
    "result"
   ]
  },
  {
   "cell_type": "code",
   "execution_count": 49,
   "metadata": {
    "collapsed": false
   },
   "outputs": [
    {
     "name": "stdout",
     "output_type": "stream",
     "text": [
      "[[ 0.          0.08406019  0.09788659  0.10143502  0.10105232  0.09898766\n",
      "   0.09642199  0.09404291  0.09224419  0.09123318  0.09148456]\n",
      " [ 0.          0.0818245   0.09590969  0.09986111  0.09990947  0.09824994\n",
      "   0.09602925  0.09391899  0.09231002  0.09141454  0.09168437]\n",
      " [ 0.          0.08032499  0.09451786  0.09867349  0.09895058  0.09751324\n",
      "   0.09548761  0.09353391  0.09203874  0.09121456  0.09149735]\n",
      " [ 0.          0.07854152  0.09285106  0.09722582  0.09774666  0.09654629\n",
      "   0.09472963  0.09294475  0.09157329  0.0908274   0.0911255 ]\n",
      " [ 0.          0.07495535  0.0896748   0.09452184  0.09550423  0.09472769\n",
      "   0.09327462  0.09178     0.09062123  0.0900122   0.09033985]]\n",
      "[[ 1.  1.  1.  1.  1.]]\n",
      "[[ 0.  0.  0.  0. -0.]\n",
      " [-0. -0.  0.  0.  0.]\n",
      " [-0. -0. -0. -0.  0.]\n",
      " [-0. -0. -0. -0. -0.]\n",
      " [-0. -0. -0. -0. -0.]\n",
      " [-0. -0. -0. -0.  0.]\n",
      " [-0. -0. -0. -0.  0.]\n",
      " [-0. -0. -0.  0.  0.]\n",
      " [ 0.  0.  0.  0.  0.]\n",
      " [ 1.  1.  1.  1.  1.]]\n"
     ]
    }
   ],
   "source": [
    "print np.multiply(y.value,index)\n",
    "print np.sum(beta.value,axis=0)\n",
    "print np.round(beta.value,2)\n",
    "#reserve_prices = rn.exponential(l, N)\n",
    "#print(reserve_prices)\n",
    "#np.mean(reserve_prices)\n",
    "#y.value[0,:]*index <= N*(beta.value*aux4)"
   ]
  },
  {
   "cell_type": "code",
   "execution_count": null,
   "metadata": {
    "collapsed": true
   },
   "outputs": [],
   "source": [
    "constraints = [y >= 0, p >= 0, sum(y)<= x0, y <= 1 - l*p] \n",
    "#The optimal objective is returned by prob.solve().\n",
    "prob = Problem(objective, constraints)\n",
    "result = prob.solve()\n",
    "# The optimal value for x is stored in x.value.\n",
    "print p.value\n",
    "# The optimal Lagrange multiplier for a constraint\n",
    "# is stored in constraint.dual_value.\n",
    "#print constraints[0].dual_value"
   ]
  },
  {
   "cell_type": "code",
   "execution_count": 5,
   "metadata": {
    "collapsed": false
   },
   "outputs": [
    {
     "data": {
      "text/plain": [
       "<numpy.lib.function_base.vectorize at 0x10af90e10>"
      ]
     },
     "execution_count": 5,
     "metadata": {},
     "output_type": "execute_result"
    }
   ],
   "source": [
    "np.vectorize(y)"
   ]
  },
  {
   "cell_type": "code",
   "execution_count": null,
   "metadata": {
    "collapsed": true
   },
   "outputs": [],
   "source": []
  }
 ],
 "metadata": {
  "anaconda-cloud": {},
  "kernelspec": {
   "display_name": "Python [conda root]",
   "language": "python",
   "name": "conda-root-py"
  },
  "language_info": {
   "codemirror_mode": {
    "name": "ipython",
    "version": 2
   },
   "file_extension": ".py",
   "mimetype": "text/x-python",
   "name": "python",
   "nbconvert_exporter": "python",
   "pygments_lexer": "ipython2",
   "version": "2.7.12"
  }
 },
 "nbformat": 4,
 "nbformat_minor": 1
}
